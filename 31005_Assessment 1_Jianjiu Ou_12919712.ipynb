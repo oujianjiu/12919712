{
  "nbformat": 4,
  "nbformat_minor": 0,
  "metadata": {
    "kernelspec": {
      "name": "python3",
      "display_name": "Python 3"
    },
    "language_info": {
      "codemirror_mode": {
        "name": "ipython",
        "version": 3
      },
      "file_extension": ".py",
      "mimetype": "text/x-python",
      "name": "python",
      "nbconvert_exporter": "python",
      "pygments_lexer": "ipython3",
      "version": "3.5.4"
    },
    "toc": {
      "base_numbering": 1,
      "nav_menu": {},
      "number_sections": true,
      "sideBar": true,
      "skip_h1_title": false,
      "title_cell": "Table of Contents",
      "title_sidebar": "Contents",
      "toc_cell": false,
      "toc_position": {},
      "toc_section_display": true,
      "toc_window_display": false
    },
    "colab": {
      "name": "Copy of Copy of A1_ReportDraft.ipynb",
      "version": "0.3.2",
      "provenance": [],
      "collapsed_sections": [],
      "include_colab_link": true
    },
    "accelerator": "GPU"
  },
  "cells": [
    {
      "cell_type": "markdown",
      "metadata": {
        "id": "view-in-github",
        "colab_type": "text"
      },
      "source": [
        "<a href=\"https://colab.research.google.com/github/oujianjiu/12919712/blob/master/31005_Assessment%201_Jianjiu%20Ou_12919712.ipynb\" target=\"_parent\"><img src=\"https://colab.research.google.com/assets/colab-badge.svg\" alt=\"Open In Colab\"/></a>"
      ]
    },
    {
      "cell_type": "markdown",
      "metadata": {
        "id": "nooOnUcMr1Tl",
        "colab_type": "text"
      },
      "source": [
        "# Draft and Experiment Area"
      ]
    },
    {
      "cell_type": "markdown",
      "metadata": {
        "id": "4EPcGW4qr1To",
        "colab_type": "text"
      },
      "source": [
        "1. First impression\n",
        "    * What is my chosen paper to read?<br>\n",
        "      Gradient-Based Learning Applied to Document Recognition\n",
        "      \n",
        "    * What type of the main contribution the paper has made?<br>\n",
        "      The paper reviews the Gradient-Based Learning algorithms to synthesized high dimensional patterns with complex decision surface. (such as handwritten characters)<br>\n",
        "        - A theory or proposition (revealing something, from unknown to known)\n",
        "        - A method or algorithm (inventing a technique, from undoable to doable \n",
        "    * _Before_ reading the main body of the paper, write down your first impression  obtained from its abstract and short introduction.<br>\n",
        "\n",
        "      Beofre I am reading the main body, the first impression of this paper is proposing a new methodology to building a learning paradigm (called Graph Transformer Networks (GTN)). It also use Convolutional Neural Network combined with gobal training technology to provides record accuary on business and personal checks.<br>\n",
        "      In this study, the research group considers the tasks of handwritten character recognition system build in the GTN and compare the performance of different learning techniques on a benchmark dataset (handwritting digit recognition).  (P.27)<br>"
      ]
    },
    {
      "cell_type": "code",
      "metadata": {
        "id": "cD6ARLTG7soF",
        "colab_type": "code",
        "colab": {
          "base_uri": "https://localhost:8080/",
          "height": 34
        },
        "outputId": "c238d100-ece0-44e5-a3c5-b27e355c5a1e"
      },
      "source": [
        "import numpy as np\n",
        "from keras.datasets import mnist"
      ],
      "execution_count": 1,
      "outputs": [
        {
          "output_type": "stream",
          "text": [
            "Using TensorFlow backend.\n"
          ],
          "name": "stderr"
        }
      ]
    },
    {
      "cell_type": "code",
      "metadata": {
        "id": "Nu8rSlS-96ER",
        "colab_type": "code",
        "colab": {
          "base_uri": "https://localhost:8080/",
          "height": 51
        },
        "outputId": "50eb036d-a40b-458a-f327-926b55e03a50"
      },
      "source": [
        "#import the dataset from mnist\n",
        "(train_images, train_labels), (test_images, test_labels) = mnist.load_data()"
      ],
      "execution_count": 2,
      "outputs": [
        {
          "output_type": "stream",
          "text": [
            "Downloading data from https://s3.amazonaws.com/img-datasets/mnist.npz\n",
            "11493376/11490434 [==============================] - 9s 1us/step\n"
          ],
          "name": "stdout"
        }
      ]
    },
    {
      "cell_type": "code",
      "metadata": {
        "id": "KwhYYlmd99oS",
        "colab_type": "code",
        "outputId": "91b27f4e-4f1c-4001-86f8-82c7f59ed151",
        "colab": {
          "base_uri": "https://localhost:8080/",
          "height": 68
        }
      },
      "source": [
        "print(\"trainShape: \",train_images.shape)\n",
        "print(\"testShape: \", test_images.shape)\n",
        "print(train_labels)"
      ],
      "execution_count": 3,
      "outputs": [
        {
          "output_type": "stream",
          "text": [
            "trainShape:  (60000, 28, 28)\n",
            "testShape:  (10000, 28, 28)\n",
            "[5 0 4 ... 5 6 8]\n"
          ],
          "name": "stdout"
        }
      ]
    },
    {
      "cell_type": "code",
      "metadata": {
        "id": "Pcw6fM7P99zr",
        "colab_type": "code",
        "colab": {}
      },
      "source": [
        "from keras import models\n",
        "from keras import layers"
      ],
      "execution_count": 0,
      "outputs": []
    },
    {
      "cell_type": "code",
      "metadata": {
        "id": "_EYatHyy9984",
        "colab_type": "code",
        "colab": {
          "base_uri": "https://localhost:8080/",
          "height": 190
        },
        "outputId": "b5240902-baa6-4152-e9d1-c377892078d7"
      },
      "source": [
        "from keras import layers\n",
        "from keras import models\n",
        "model = models.Sequential()\n",
        "model.add(layers.Conv2D(32, (3, 3), activation='relu', input_shape=(28, 28, 1)))\n",
        "model.add(layers.MaxPooling2D((2, 2)))\n",
        "model.add(layers.Conv2D(64, (3, 3), activation='relu'))\n",
        "model.add(layers.MaxPooling2D((2, 2)))\n",
        "model.add(layers.Conv2D(64, (3, 3), activation='relu'))"
      ],
      "execution_count": 5,
      "outputs": [
        {
          "output_type": "stream",
          "text": [
            "WARNING: Logging before flag parsing goes to stderr.\n",
            "W0828 08:44:33.201097 139789136848768 deprecation_wrapper.py:119] From /usr/local/lib/python3.6/dist-packages/keras/backend/tensorflow_backend.py:74: The name tf.get_default_graph is deprecated. Please use tf.compat.v1.get_default_graph instead.\n",
            "\n",
            "W0828 08:44:33.237195 139789136848768 deprecation_wrapper.py:119] From /usr/local/lib/python3.6/dist-packages/keras/backend/tensorflow_backend.py:517: The name tf.placeholder is deprecated. Please use tf.compat.v1.placeholder instead.\n",
            "\n",
            "W0828 08:44:33.244866 139789136848768 deprecation_wrapper.py:119] From /usr/local/lib/python3.6/dist-packages/keras/backend/tensorflow_backend.py:4138: The name tf.random_uniform is deprecated. Please use tf.random.uniform instead.\n",
            "\n",
            "W0828 08:44:33.274048 139789136848768 deprecation_wrapper.py:119] From /usr/local/lib/python3.6/dist-packages/keras/backend/tensorflow_backend.py:3976: The name tf.nn.max_pool is deprecated. Please use tf.nn.max_pool2d instead.\n",
            "\n"
          ],
          "name": "stderr"
        }
      ]
    },
    {
      "cell_type": "code",
      "metadata": {
        "id": "nmW-zohI9-D6",
        "colab_type": "code",
        "outputId": "5f78768f-7154-4b71-a1f3-e6270897c15c",
        "colab": {
          "base_uri": "https://localhost:8080/",
          "height": 306
        }
      },
      "source": [
        "model.summary()\n",
        "\n",
        "#You can see that the output of every Conv2D and MaxPooling2D layer is a 3D tensor of\n",
        "#shape (height, width, channels). "
      ],
      "execution_count": 6,
      "outputs": [
        {
          "output_type": "stream",
          "text": [
            "_________________________________________________________________\n",
            "Layer (type)                 Output Shape              Param #   \n",
            "=================================================================\n",
            "conv2d_1 (Conv2D)            (None, 26, 26, 32)        320       \n",
            "_________________________________________________________________\n",
            "max_pooling2d_1 (MaxPooling2 (None, 13, 13, 32)        0         \n",
            "_________________________________________________________________\n",
            "conv2d_2 (Conv2D)            (None, 11, 11, 64)        18496     \n",
            "_________________________________________________________________\n",
            "max_pooling2d_2 (MaxPooling2 (None, 5, 5, 64)          0         \n",
            "_________________________________________________________________\n",
            "conv2d_3 (Conv2D)            (None, 3, 3, 64)          36928     \n",
            "=================================================================\n",
            "Total params: 55,744\n",
            "Trainable params: 55,744\n",
            "Non-trainable params: 0\n",
            "_________________________________________________________________\n"
          ],
          "name": "stdout"
        }
      ]
    },
    {
      "cell_type": "code",
      "metadata": {
        "id": "RzyPvZIi9-Hg",
        "colab_type": "code",
        "colab": {}
      },
      "source": [
        "# add fully conncted layer\n",
        "model.add(layers.Flatten())\n",
        "model.add(layers.Dense(64, activation='relu'))\n",
        "model.add(layers.Dense(10, activation='softmax'))"
      ],
      "execution_count": 0,
      "outputs": []
    },
    {
      "cell_type": "code",
      "metadata": {
        "id": "PohVCFo_A96t",
        "colab_type": "code",
        "outputId": "834a980b-80fb-4340-b851-f2e3c6abb454",
        "colab": {
          "base_uri": "https://localhost:8080/",
          "height": 269
        }
      },
      "source": [
        "digit = train_images[2]\n",
        "import matplotlib.pyplot as plt\n",
        "plt.imshow(digit, cmap=plt.cm.binary)\n",
        "plt.show()"
      ],
      "execution_count": 8,
      "outputs": [
        {
          "output_type": "display_data",
          "data": {
            "image/png": "[encoded data removed]",
            "text/plain": [
              "<Figure size 432x288 with 1 Axes>"
            ]
          },
          "metadata": {
            "tags": []
          }
        }
      ]
    },
    {
      "cell_type": "code",
      "metadata": {
        "id": "mYfzzsbJ9-QQ",
        "colab_type": "code",
        "outputId": "66242cf9-584e-4394-ceff-636d1bf02e31",
        "colab": {
          "base_uri": "https://localhost:8080/",
          "height": 360
        }
      },
      "source": [
        "#resize the data from 0-255 to 0-1\n",
        "from keras.utils import to_categorical\n",
        "\n",
        "train_images = train_images.reshape((60000, 28, 28, 1))\n",
        "train_images = train_images.astype('float32') / 255\n",
        "test_images = test_images.reshape((10000, 28, 28, 1))\n",
        "test_images = test_images.astype('float32') / 255\n",
        "train_labels = to_categorical(train_labels)\n",
        "test_labels = to_categorical(test_labels)\n",
        "\n",
        "model.compile(optimizer='rmsprop',\n",
        "loss='categorical_crossentropy',\n",
        "metrics=['accuracy'])\n",
        "trainModel=model.fit(train_images, train_labels, epochs=5, batch_size=64)"
      ],
      "execution_count": 9,
      "outputs": [
        {
          "output_type": "stream",
          "text": [
            "W0828 08:44:33.666772 139789136848768 deprecation_wrapper.py:119] From /usr/local/lib/python3.6/dist-packages/keras/optimizers.py:790: The name tf.train.Optimizer is deprecated. Please use tf.compat.v1.train.Optimizer instead.\n",
            "\n",
            "W0828 08:44:33.688052 139789136848768 deprecation_wrapper.py:119] From /usr/local/lib/python3.6/dist-packages/keras/backend/tensorflow_backend.py:3295: The name tf.log is deprecated. Please use tf.math.log instead.\n",
            "\n",
            "W0828 08:44:33.806817 139789136848768 deprecation.py:323] From /usr/local/lib/python3.6/dist-packages/tensorflow/python/ops/math_grad.py:1250: add_dispatch_support.<locals>.wrapper (from tensorflow.python.ops.array_ops) is deprecated and will be removed in a future version.\n",
            "Instructions for updating:\n",
            "Use tf.where in 2.0, which has the same broadcast rule as np.where\n",
            "W0828 08:44:33.917633 139789136848768 deprecation_wrapper.py:119] From /usr/local/lib/python3.6/dist-packages/keras/backend/tensorflow_backend.py:986: The name tf.assign_add is deprecated. Please use tf.compat.v1.assign_add instead.\n",
            "\n"
          ],
          "name": "stderr"
        },
        {
          "output_type": "stream",
          "text": [
            "Epoch 1/5\n",
            "60000/60000 [==============================] - 15s 243us/step - loss: 0.1787 - acc: 0.9439\n",
            "Epoch 2/5\n",
            "60000/60000 [==============================] - 9s 146us/step - loss: 0.0488 - acc: 0.9848\n",
            "Epoch 3/5\n",
            "60000/60000 [==============================] - 9s 146us/step - loss: 0.0331 - acc: 0.9899\n",
            "Epoch 4/5\n",
            "60000/60000 [==============================] - 9s 147us/step - loss: 0.0255 - acc: 0.9919\n",
            "Epoch 5/5\n",
            "60000/60000 [==============================] - 9s 147us/step - loss: 0.0193 - acc: 0.9937\n"
          ],
          "name": "stdout"
        }
      ]
    },
    {
      "cell_type": "code",
      "metadata": {
        "id": "g3RHYu7qAguK",
        "colab_type": "code",
        "outputId": "9f458bd2-18a4-45b8-ecb1-968e30f21dce",
        "colab": {
          "base_uri": "https://localhost:8080/",
          "height": 323
        }
      },
      "source": [
        "from sklearn.metrics import classification_report\n",
        "test_pred = model.predict(test_images, verbose=1, batch_size=64).argmax(axis=1)\n",
        "test_true=test_labels.argmax(axis=1) \n",
        "print(classification_report(test_true, test_pred, target_names=[\"0\",\"1\",\"2\",\"3\",\"4\",\"5\",\"6\",\"7\",\"8\",\"9\"]))"
      ],
      "execution_count": 10,
      "outputs": [
        {
          "output_type": "stream",
          "text": [
            "10000/10000 [==============================] - 0s 47us/step\n",
            "              precision    recall  f1-score   support\n",
            "\n",
            "           0       0.99      0.99      0.99       980\n",
            "           1       1.00      0.98      0.99      1135\n",
            "           2       1.00      0.99      0.99      1032\n",
            "           3       0.99      1.00      0.99      1010\n",
            "           4       1.00      0.99      0.99       982\n",
            "           5       0.99      0.99      0.99       892\n",
            "           6       0.99      0.99      0.99       958\n",
            "           7       0.99      0.99      0.99      1028\n",
            "           8       0.99      1.00      0.99       974\n",
            "           9       0.99      0.99      0.99      1009\n",
            "\n",
            "    accuracy                           0.99     10000\n",
            "   macro avg       0.99      0.99      0.99     10000\n",
            "weighted avg       0.99      0.99      0.99     10000\n",
            "\n"
          ],
          "name": "stdout"
        }
      ]
    },
    {
      "cell_type": "code",
      "metadata": {
        "id": "q5tm1asPHq8A",
        "colab_type": "code",
        "outputId": "fa33d325-c078-4449-fe04-a77ffd7ab6b1",
        "colab": {
          "base_uri": "https://localhost:8080/",
          "height": 295
        }
      },
      "source": [
        "plt.plot(trainModel.history['acc'])\n",
        "plt.title('model accuracy')\n",
        "plt.ylabel('accuracy')\n",
        "plt.xlabel('epoch')\n",
        "plt.legend(['train'], loc='upper left')\n",
        "plt.show()"
      ],
      "execution_count": 11,
      "outputs": [
        {
          "output_type": "display_data",
          "data": {
            "image/png": "[encoded data removed]",
            "text/plain": [
              "<Figure size 432x288 with 1 Axes>"
            ]
          },
          "metadata": {
            "tags": []
          }
        }
      ]
    },
    {
      "cell_type": "code",
      "metadata": {
        "id": "Ar7JphspIWOY",
        "colab_type": "code",
        "outputId": "85ea8080-fdb4-48dc-c527-f857b03dc698",
        "colab": {
          "base_uri": "https://localhost:8080/",
          "height": 295
        }
      },
      "source": [
        "plt.plot(trainModel.history['loss'])\n",
        "plt.title('model loss')\n",
        "plt.ylabel('loss')\n",
        "plt.xlabel('epoch')\n",
        "plt.legend(['train'], loc='upper left')\n",
        "plt.show()"
      ],
      "execution_count": 12,
      "outputs": [
        {
          "output_type": "display_data",
          "data": {
            "image/png": "[encoded data removed]",
            "text/plain": [
              "<Figure size 432x288 with 1 Axes>"
            ]
          },
          "metadata": {
            "tags": []
          }
        }
      ]
    },
    {
      "cell_type": "markdown",
      "metadata": {
        "id": "95ed3Zaur1Tp",
        "colab_type": "text"
      },
      "source": [
        "# Review Report on \"Gradient-Based Learning Applied to Document Recognition\""
      ]
    },
    {
      "cell_type": "markdown",
      "metadata": {
        "id": "Dwlw9l-Dr1Tq",
        "colab_type": "text"
      },
      "source": [
        "## Introduction\n",
        "<br>https://github.com/oujianjiu/12919712/blob/master/31005_Assessment%201_Jianjiu%20Ou_12919712.ipynb<br>\n",
        "The link from GitHub contains the experiment codes of implementing the CNN model and draft."
      ]
    },
    {
      "cell_type": "markdown",
      "metadata": {
        "id": "SQr0vdz_r1Ts",
        "colab_type": "text"
      },
      "source": [
        "## Content"
      ]
    },
    {
      "cell_type": "markdown",
      "metadata": {
        "id": "YC3k-HpQr1Tt",
        "colab_type": "text"
      },
      "source": [
        "The paper proposes multilayer neural network trained with the backpropagation algorithm that can be used to recognise high-dimensional patterns such as handwritten characters. Furthermore, this paper reviews various methods applied to handwritten character recognition, the results of the methods are compared to a handwritten digit recognition standard task. The challenge of this research is constructing a better pattern recognition system that can rely more on automatic learning but less on hand-designed heuristics at the same time. In this case of study, Convolutional Neural Network (CNN) are mainly used in this task, such as by using the combination of Convolutional Neural Network pattern/character recognizer and global training techniques to estimate result accuracy on personal checks and business. The paper contains 10 main sections, which covers multiple topics and techniques in patterns and characters recognition. In this report will only focus on the sections of convolutional neural network. By review the convolutional neural network section, the technique that being used in the research is LeNet-5, which is the first generation of CNN that developed in 1998. CNN is a deep learning model or multi-layer perceptron, it is one of the representative algorithms of deep learning, which is commonly used to analyse visual images. In this paper, the research group uses LeNet-5 to extract the features of handwritten characters by training on the regular MINIST database in 5 layers. Shown in figure 1 below, a general LeNet-5 CNN approach for image classification has 3 main layers: Convolutional Layers, Subsampling Layers (or Pooling Layer) and Fully-Connected layers. <br>\n",
        "  * Convolutional Layer: In the convolution layer, the matrix is generated by calculating the region of the input image and the weight matrix of the filter, and the result is taken as the output of this layer. Normally the input used to be a matrix of N*M*3 image, where N and M are the units (pixels) of the height and width. 3 is the colour channels that represent to red, green and blue. In this case of study, the use of training data in LeNet-5 model is grey scale handwritten digit pattern, therefore, the channel is 1 and input for LeNet- 5 model is a 32*32 grayscale image with 6 feature maps or filters that having size 5*5 in the first layer. There are also some other filters that apply in convolution layer, these filters are used to extract the features of the image, such as curves and stripes. The output of the first convolutional layer changes from 32*32*1 to 28*28*6.<br>\n",
        "  <br>\n",
        "  Convolutional layer has repeated 2 times in LeNet-5 model, as the figure 1 describes, the second convolutional layer contains 16 feature maps with 5*5 size and a stride of 1. Therefore, in this layer, 16 features maps are used to connect to the 6 features maps from the previous layer (subsampling layer) and output 16 features in 10*10 size. \n",
        "  <br>\n",
        "  <br>\n",
        "  * Subsampling Layer: The subsampling Layer has the another name “Pooling Layer” in the recently study of CNN. Generally, there are two widely used pooling approaches: max pooling and average pooling, where max pooling is the most used of the two and having a better performance in most the cases. The subsampling layer is used to reduce the dimensions of feature space in the convolution neural network, but does not reduce the depth(channel). The output of the subsampling can be used for the next convolution layer or the fully connected layer. In this case of study, the size of the LeNet-5 subsampling matrix is in size of 2*2.<br>\n",
        "  <br>\n",
        "  *\tFully-connected layer: Fully connected layer is taking the most important role, it flattens the output of the last convolutional layer and connect to number of nodes that the researchers want to classify. The output of the fully connect layer is generated by training these number of nodes and use “softmax” to gain the probability of the result.<br>\n",
        "  <br><a href=\"https://ibb.co/1qKHVSb\"><img src=\"https://i.ibb.co/qs9bGZx/pic.png\" alt=\"pic\" border=\"0\" /></a>\n",
        "                     *Figure -1 Structure of LeNet-5 CNN model*\n",
        "  <br>\n",
        "This LeNet-5 CNN method in the paper achieved an outstanding result with lower than 1% Error rate in training set with 6000 sample. Comparing to others patterns recognition system, LeNet-5 CNN is one of the most competitive techniques in handwritten recognition system in 1998.\n",
        "\n"
      ]
    },
    {
      "cell_type": "markdown",
      "metadata": {
        "id": "NjT7gw8-r1Tu",
        "colab_type": "text"
      },
      "source": [
        "## Innovation"
      ]
    },
    {
      "cell_type": "markdown",
      "metadata": {
        "id": "no4Gk4y4r1Tu",
        "colab_type": "text"
      },
      "source": [
        "The paper introduces multiple techniques and methods to achieve the success in handwritten characters recognition system, in this innovation section here, we are focusing on the Convolutional Neural Network (CNN) approach. In this paper, it proposes a new model “LeNet-5” in CNN, it is an advanced and ahead in patterns and characters recognition in 1990s. It is the first model that using subsampling layer right after convolution layer in the system of CNN and it can be considered as the prototype of modern CNN.  <br>\n",
        "<br>\n",
        "By reviewing the paper, LeNet-5 model is mainly used to identify and classify handwritten characters, it had been used in US banks for reading bank checks oftenly. The implementation of LeNet-5 established the structure of CNN. The LeNet-5 architecture can still be seen in many image recognition networks, such as convolution layer, Pooling layer and ReLU layer. Although LeNet-5 was introduced as early as the 1990s, the lack of large-scale training data at that time, the performance of computer hardware is also low, so LeNet-5 neural network is not a good ideal when dealing with complex problems.<br>\n",
        "<br>\n",
        "In summary, the model of LeNet-5 had achieved the success in handwritten characters recognition system, but it is for the small number of dataset. In the view of today’s research in CNN, it is more used in large and complicate images classification and analyse. In this case, 5 hidden layers are not enough for large scale and complicate images classification.\n"
      ]
    },
    {
      "cell_type": "markdown",
      "metadata": {
        "id": "gR-L8V9Gr1Tv",
        "colab_type": "text"
      },
      "source": [
        "## Technical quality"
      ]
    },
    {
      "cell_type": "markdown",
      "metadata": {
        "id": "8xUHXPhxr1Tw",
        "colab_type": "text"
      },
      "source": [
        "The paper uses the LeNet-5 CNN model to identify and classify handwritten characters by inputting the images in size of 32*32 pixel. There are 2 main training sets of handwritten digital SD-1 and SD-3 from NIST database, SD-1 was collected by among of high school students and SD-3 was collected by among Census Bureau employees. The result of accuracy after training 2 dataset clearly defines SD-3 had achieved a much better performance. As we can see, the training data is prejudicial, in other words, the input data examples will only represent to this two groups of people, it can be treated as biased.  <br>\n",
        "<br>\n",
        "In another hand, the model LeNet-5 itself has 5 hidden layers, which are convolutions, subsampling and full connected layers. In the year of 1990s, due the performance of computer hardware LeNet-5 can input small scale of image or patterns such as 32*32 pixel. After 2 steps of each convolutions and subsampling, the features map(filters) finally generates a 16*6 matrix which represents the features of selecting pattern or image. Furthermore, as the network deepens in LeNet-5, the accuracy of the training set decreases, this will be known as Network degradation. In today’s research, small scale patterns will not satisfy the modern deep learning development, it needs more trainable hidden layers and developed feature maps to extract different types of features from the large scale of patterns such as ResNet50. To solve the Network degradation problem, deep residual network (such as ResNet50) is designed to overcome the problem that the learning efficiency is low due to the deepening of the network, and the accuracy cannot be effectively improved."
      ]
    },
    {
      "cell_type": "markdown",
      "metadata": {
        "id": "T9IGKeJar1Tx",
        "colab_type": "text"
      },
      "source": [
        "## Application and X-factor"
      ]
    },
    {
      "cell_type": "markdown",
      "metadata": {
        "id": "2vyrvL6er1Ty",
        "colab_type": "text"
      },
      "source": [
        "This research paper had applied to handwritten patterns and images recognition system in 1990s, it achieved a significant success in the past 10 years, it read millions of checks per month in several banks across the United States. As we discuss in the technical quality section, LeNet-5 is used in small scale images and patterns, in this case, CNN can be used in some small images classification, objects detection.<br>\n",
        "<br>\n",
        "In the future of CNN development, such as today’s deep learning research, CNN can apply to others domains such as images and patterns analysis in histological images. By using CNN techniques with computer aided diagnosis (CAD) system that can able to promote the quality of medical imaging diagnostics exanimation. Referencing to Kennedyâ€™s research, Histopathological examination in the medical field is one of the most important indicators of prognosis in patients with Neuroblastoma [1]. The research group uses ResNet50 to classify 5 different categories of Neuroblastoma with around 0.90 F1-socre in each classes. <br>\n",
        "  <br>\n",
        "In my perspective, the development of CNN can be a good discussion in class, the interesting part of CNN is the progress of deep learning approaches. By using deep residual network to train the dataset such as using ResNet50, and configuring the data augmentations such as zooming and rotating the images to find out the best performance.\n"
      ]
    },
    {
      "cell_type": "markdown",
      "metadata": {
        "id": "m4F-nzRpr1Tz",
        "colab_type": "text"
      },
      "source": [
        "## Presentation"
      ]
    },
    {
      "cell_type": "markdown",
      "metadata": {
        "id": "4M2D2Vpxr1Tz",
        "colab_type": "text"
      },
      "source": [
        "First of all, this paper is published by Yann LuCun who is one of the initiators of Convolutional Neural Network, the paper proposes the first idea of convolutional neural network used in images recognition, and with the successful implementation in 1990s. The paper contains the general content of deep learning, even it was published in 1998. The information and the experiments that present in the paper are highly relevant to the topic. There are 10 subsection contained in the paper, each of this sections are close to one content, which is how to construct a better pattern recognition system that can rely more on automatic learning but less on hand-designed heuristics at the same time. As the result, CNN can be one of the best choices."
      ]
    },
    {
      "cell_type": "markdown",
      "metadata": {
        "id": "SBFQLUj8r1T0",
        "colab_type": "text"
      },
      "source": [
        "## References\n",
        "[1]  Gheisari, S., Catchpoole, D.R., Charlton, A. & Kennedy, P.J. 2018, 'Convolutional deep belief network with feature encoding for classification of neuroblastoma histological images', *Journal of pathology informatics*, vol. 9, no. 1, p.17.\n",
        "<br><br>\n",
        "[2]  LeCun, Y., Bottou, L., Bengio, Y. and Haffner, P. 1998, 'Gradient-based learning applied to document recognition', *Proceedings of the IEEE*, vol.86, pp.2278-2324.\n",
        "<br><br>\n",
        "[3] Guo, Y., Liu, Y., Oerlemans, A., Lao, S., Wu, S. & Lew, M.S. 2016, 'Deep learning for visual understanding: A review', *Neurocomputing*, vol. 187, pp.27-48.\n"
      ]
    },
    {
      "cell_type": "code",
      "metadata": {
        "id": "x1kjHgANZTwy",
        "colab_type": "code",
        "colab": {}
      },
      "source": [
        ""
      ],
      "execution_count": 0,
      "outputs": []
    }
  ]
}